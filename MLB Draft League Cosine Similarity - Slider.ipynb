{
 "cells": [
  {
   "cell_type": "code",
   "execution_count": 1,
   "metadata": {},
   "outputs": [],
   "source": [
    "import pandas as pd\n",
    "import numpy as np\n",
    "import seaborn as sns\n",
    "from sklearn.feature_extraction.text import CountVectorizer\n",
    "from sklearn.metrics.pairwise import cosine_similarity\n",
    "import matplotlib.pyplot as plt\n",
    "%matplotlib inline"
   ]
  },
  {
   "cell_type": "code",
   "execution_count": 2,
   "metadata": {},
   "outputs": [],
   "source": [
    "sliderDL = pd.read_csv('DraftLeagueSlider.csv')\n",
    "sliderMLB = pd.read_csv('MLBSlider.csv')"
   ]
  },
  {
   "cell_type": "code",
   "execution_count": 3,
   "metadata": {},
   "outputs": [],
   "source": [
    "sliderDL['league'] = 'Draft League'\n",
    "sliderMLB['league'] = 'MLB'"
   ]
  },
  {
   "cell_type": "code",
   "execution_count": 4,
   "metadata": {},
   "outputs": [],
   "source": [
    "sliderDL = sliderDL.astype(str)\n",
    "sliderMLB = sliderMLB.astype(str)"
   ]
  },
  {
   "cell_type": "code",
   "execution_count": 5,
   "metadata": {},
   "outputs": [],
   "source": [
    "pitchersDL = list(set(sliderDL['pitcher']))"
   ]
  },
  {
   "cell_type": "code",
   "execution_count": 6,
   "metadata": {},
   "outputs": [],
   "source": [
    "slider = pd.concat([sliderDL, sliderMLB])"
   ]
  },
  {
   "cell_type": "code",
   "execution_count": 7,
   "metadata": {},
   "outputs": [],
   "source": [
    "def combined_features(row):\n",
    "    return row['avgvelo']+\" \"+row['avgspinrate']+\" \"+row['avghorzbreak']+\" \"+row['avgvertbreak']+\" \"+row['avgeffectvelo']"
   ]
  },
  {
   "cell_type": "code",
   "execution_count": 8,
   "metadata": {},
   "outputs": [],
   "source": [
    "#fig, ax = plt.subplots(figsize=(100,100))\n",
    "#sns.heatmap(cosine_sim,cmap='magma',ax=ax)"
   ]
  },
  {
   "cell_type": "code",
   "execution_count": 9,
   "metadata": {},
   "outputs": [],
   "source": [
    "def get_index_from_pitcher(pitcher):\n",
    "    return slider[slider.pitcher == pitcher].index[0]"
   ]
  },
  {
   "cell_type": "code",
   "execution_count": 10,
   "metadata": {},
   "outputs": [],
   "source": [
    "def get_pitcher_from_index(index):\n",
    "    return slider[slider.index == index].values[0][0]"
   ]
  },
  {
   "cell_type": "code",
   "execution_count": 11,
   "metadata": {},
   "outputs": [],
   "source": [
    "mlb_draft_pitcher = []\n",
    "mlb_comp = []\n",
    "cos_value = []\n",
    "\n",
    "for x in pitchersDL:\n",
    "    \n",
    "    mlb_draft_pitcher.append(x)\n",
    "    \n",
    "    try:\n",
    "\n",
    "        slider = pd.concat([sliderDL, sliderMLB])\n",
    "\n",
    "        slider[\"combined_features\"] = slider.apply(combined_features, axis =1)\n",
    "\n",
    "        cv = CountVectorizer()\n",
    "        count_matrix = cv.fit_transform(slider[\"combined_features\"])\n",
    "\n",
    "        cosine_sim = cosine_similarity(count_matrix)\n",
    "\n",
    "        pitcher_like = x\n",
    "        slider = slider[(slider['pitcher'] == pitcher_like) | (slider['league'] == 'MLB')]\n",
    "\n",
    "        player_index = get_index_from_pitcher(pitcher_like)\n",
    "\n",
    "        similar_pitchers = list(enumerate(cosine_sim[player_index]))\n",
    "\n",
    "        sorted_similar_pitchers = sorted(similar_pitchers, key=lambda x:x[1], reverse=True)\n",
    "\n",
    "        mlb_comp.append(get_pitcher_from_index(sorted_similar_pitchers[1][0]))\n",
    "        \n",
    "        cos_value.append(sorted_similar_pitchers[1][1])\n",
    "                \n",
    "    except IndexError:\n",
    "        mlb_comp.append('No Comp')\n",
    "        cos_value.append('No Similarity')\n",
    "        pass"
   ]
  },
  {
   "cell_type": "code",
   "execution_count": 12,
   "metadata": {},
   "outputs": [
    {
     "data": {
      "text/html": [
       "<div>\n",
       "<style scoped>\n",
       "    .dataframe tbody tr th:only-of-type {\n",
       "        vertical-align: middle;\n",
       "    }\n",
       "\n",
       "    .dataframe tbody tr th {\n",
       "        vertical-align: top;\n",
       "    }\n",
       "\n",
       "    .dataframe thead th {\n",
       "        text-align: right;\n",
       "    }\n",
       "</style>\n",
       "<table border=\"1\" class=\"dataframe\">\n",
       "  <thead>\n",
       "    <tr style=\"text-align: right;\">\n",
       "      <th></th>\n",
       "      <th>MLB DL Pitcher</th>\n",
       "      <th>MLB Comp</th>\n",
       "      <th>Cosine Value</th>\n",
       "    </tr>\n",
       "  </thead>\n",
       "  <tbody>\n",
       "    <tr>\n",
       "      <th>0</th>\n",
       "      <td>De Cedric, Grandpre</td>\n",
       "      <td>Cease, Dylan</td>\n",
       "      <td>0.333333</td>\n",
       "    </tr>\n",
       "    <tr>\n",
       "      <th>1</th>\n",
       "      <td>Steward, Casey</td>\n",
       "      <td>Crowe, Wil</td>\n",
       "      <td>0.316228</td>\n",
       "    </tr>\n",
       "    <tr>\n",
       "      <th>2</th>\n",
       "      <td>Cherry, Derrick</td>\n",
       "      <td>Guerra, Junior</td>\n",
       "      <td>0.316228</td>\n",
       "    </tr>\n",
       "    <tr>\n",
       "      <th>3</th>\n",
       "      <td>Bortka, Josh</td>\n",
       "      <td>Garza Jr., Ralph</td>\n",
       "      <td>0.316228</td>\n",
       "    </tr>\n",
       "    <tr>\n",
       "      <th>4</th>\n",
       "      <td>DePrimo, Hunter</td>\n",
       "      <td>No Comp</td>\n",
       "      <td>No Similarity</td>\n",
       "    </tr>\n",
       "    <tr>\n",
       "      <th>...</th>\n",
       "      <td>...</td>\n",
       "      <td>...</td>\n",
       "      <td>...</td>\n",
       "    </tr>\n",
       "    <tr>\n",
       "      <th>125</th>\n",
       "      <td>Fosbenner, Xavier</td>\n",
       "      <td>No Comp</td>\n",
       "      <td>No Similarity</td>\n",
       "    </tr>\n",
       "    <tr>\n",
       "      <th>126</th>\n",
       "      <td>Dieter, Brandon</td>\n",
       "      <td>No Comp</td>\n",
       "      <td>No Similarity</td>\n",
       "    </tr>\n",
       "    <tr>\n",
       "      <th>127</th>\n",
       "      <td>Goodwin, Sean</td>\n",
       "      <td>Soroka, Mike</td>\n",
       "      <td>0.301511</td>\n",
       "    </tr>\n",
       "    <tr>\n",
       "      <th>128</th>\n",
       "      <td>Pintaro, Jonathan</td>\n",
       "      <td>Buehler, Walker</td>\n",
       "      <td>0.316228</td>\n",
       "    </tr>\n",
       "    <tr>\n",
       "      <th>129</th>\n",
       "      <td>Oswald, Wesley</td>\n",
       "      <td>No Comp</td>\n",
       "      <td>No Similarity</td>\n",
       "    </tr>\n",
       "  </tbody>\n",
       "</table>\n",
       "<p>130 rows × 3 columns</p>\n",
       "</div>"
      ],
      "text/plain": [
       "          MLB DL Pitcher          MLB Comp   Cosine Value\n",
       "0    De Cedric, Grandpre      Cease, Dylan       0.333333\n",
       "1         Steward, Casey        Crowe, Wil       0.316228\n",
       "2        Cherry, Derrick    Guerra, Junior       0.316228\n",
       "3           Bortka, Josh  Garza Jr., Ralph       0.316228\n",
       "4        DePrimo, Hunter           No Comp  No Similarity\n",
       "..                   ...               ...            ...\n",
       "125    Fosbenner, Xavier           No Comp  No Similarity\n",
       "126      Dieter, Brandon           No Comp  No Similarity\n",
       "127        Goodwin, Sean      Soroka, Mike       0.301511\n",
       "128    Pintaro, Jonathan   Buehler, Walker       0.316228\n",
       "129       Oswald, Wesley           No Comp  No Similarity\n",
       "\n",
       "[130 rows x 3 columns]"
      ]
     },
     "execution_count": 12,
     "metadata": {},
     "output_type": "execute_result"
    }
   ],
   "source": [
    "cosine_comp = pd.DataFrame(list(zip(mlb_draft_pitcher, mlb_comp, cos_value)), columns=['MLB DL Pitcher', 'MLB Comp', \"Cosine Value\"])\n",
    "cosine_comp"
   ]
  },
  {
   "cell_type": "code",
   "execution_count": 13,
   "metadata": {},
   "outputs": [],
   "source": [
    "cosine_comp.to_csv('slider_cosine_comp.csv', sep='\\t')"
   ]
  }
 ],
 "metadata": {
  "kernelspec": {
   "display_name": "Python 3",
   "language": "python",
   "name": "python3"
  },
  "language_info": {
   "codemirror_mode": {
    "name": "ipython",
    "version": 3
   },
   "file_extension": ".py",
   "mimetype": "text/x-python",
   "name": "python",
   "nbconvert_exporter": "python",
   "pygments_lexer": "ipython3",
   "version": "3.8.1"
  }
 },
 "nbformat": 4,
 "nbformat_minor": 4
}
