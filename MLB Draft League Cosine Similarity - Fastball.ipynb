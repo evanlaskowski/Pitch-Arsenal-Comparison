{
 "cells": [
  {
   "cell_type": "code",
   "execution_count": 1,
   "metadata": {},
   "outputs": [],
   "source": [
    "import pandas as pd\n",
    "import numpy as np\n",
    "import seaborn as sns\n",
    "from sklearn.feature_extraction.text import CountVectorizer\n",
    "from sklearn.metrics.pairwise import cosine_similarity\n",
    "import matplotlib.pyplot as plt\n",
    "%matplotlib inline"
   ]
  },
  {
   "cell_type": "code",
   "execution_count": 2,
   "metadata": {},
   "outputs": [],
   "source": [
    "fastballDL = pd.read_csv('DraftLeagueFastball.csv')\n",
    "fastballMLB = pd.read_csv('MLBFastball.csv')"
   ]
  },
  {
   "cell_type": "code",
   "execution_count": 3,
   "metadata": {},
   "outputs": [],
   "source": [
    "fastballMLB = fastballMLB[fastballMLB['pitches'] > 50]\n",
    "fastballMLB.drop('pitches', inplace=True, axis=1)"
   ]
  },
  {
   "cell_type": "code",
   "execution_count": 4,
   "metadata": {},
   "outputs": [],
   "source": [
    "fastballDL['league'] = 'Draft League'\n",
    "fastballMLB['league'] = 'MLB'"
   ]
  },
  {
   "cell_type": "code",
   "execution_count": 5,
   "metadata": {},
   "outputs": [],
   "source": [
    "fastballDL = fastballDL.astype(str)\n",
    "fastballMLB = fastballMLB.astype(str)"
   ]
  },
  {
   "cell_type": "code",
   "execution_count": 6,
   "metadata": {},
   "outputs": [],
   "source": [
    "pitchersDL = list(fastballDL['pitcher'])"
   ]
  },
  {
   "cell_type": "code",
   "execution_count": 7,
   "metadata": {},
   "outputs": [],
   "source": [
    "fastball = pd.concat([fastballDL, fastballMLB])"
   ]
  },
  {
   "cell_type": "code",
   "execution_count": 8,
   "metadata": {},
   "outputs": [],
   "source": [
    "def combined_features(row):\n",
    "    return row['avgvelo']+\" \"+row['avgspinrate']+\" \"+row['avghorzbreak']+\" \"+row['avgvertbreak']+\" \"+row['avgeffectvelo']"
   ]
  },
  {
   "cell_type": "code",
   "execution_count": 9,
   "metadata": {},
   "outputs": [],
   "source": [
    "#fig, ax = plt.subplots(figsize=(100,100))\n",
    "#sns.heatmap(cosine_sim,cmap='magma',ax=ax)"
   ]
  },
  {
   "cell_type": "code",
   "execution_count": 10,
   "metadata": {},
   "outputs": [],
   "source": [
    "def get_index_from_pitcher(pitcher):\n",
    "    return fastball[fastball.pitcher == pitcher].index[0]"
   ]
  },
  {
   "cell_type": "code",
   "execution_count": 11,
   "metadata": {},
   "outputs": [],
   "source": [
    "def get_pitcher_from_index(index):\n",
    "    return fastball[fastball.index == index].values[0][0]"
   ]
  },
  {
   "cell_type": "code",
   "execution_count": 12,
   "metadata": {},
   "outputs": [],
   "source": [
    "mlb_draft_pitcher = []\n",
    "mlb_comp = []\n",
    "cos_value = []\n",
    "\n",
    "for x in pitchersDL:\n",
    "    \n",
    "    mlb_draft_pitcher.append(x)\n",
    "    \n",
    "    try:\n",
    "\n",
    "        fastball = pd.concat([fastballDL, fastballMLB])\n",
    "\n",
    "        fastball[\"combined_features\"] = fastball.apply(combined_features, axis =1)\n",
    "\n",
    "        cv = CountVectorizer()\n",
    "        count_matrix = cv.fit_transform(fastball[\"combined_features\"])\n",
    "\n",
    "        cosine_sim = cosine_similarity(count_matrix)\n",
    "\n",
    "        pitcher_like = x\n",
    "        fastball = fastball[(fastball['pitcher'] == pitcher_like) | (fastball['league'] == 'MLB')]\n",
    "\n",
    "        player_index = get_index_from_pitcher(pitcher_like)\n",
    "\n",
    "        similar_pitchers = list(enumerate(cosine_sim[player_index]))\n",
    "\n",
    "        sorted_similar_pitchers = sorted(similar_pitchers, key=lambda x:x[1], reverse=True)\n",
    "\n",
    "        mlb_comp.append(get_pitcher_from_index(sorted_similar_pitchers[1][0]))\n",
    "        \n",
    "        cos_value.append(sorted_similar_pitchers[1][1])\n",
    "                \n",
    "    except IndexError:\n",
    "        mlb_comp.append('No Comp')\n",
    "        cos_value.append('No Similarity')\n",
    "        pass"
   ]
  },
  {
   "cell_type": "code",
   "execution_count": 16,
   "metadata": {},
   "outputs": [
    {
     "data": {
      "text/html": [
       "<div>\n",
       "<style scoped>\n",
       "    .dataframe tbody tr th:only-of-type {\n",
       "        vertical-align: middle;\n",
       "    }\n",
       "\n",
       "    .dataframe tbody tr th {\n",
       "        vertical-align: top;\n",
       "    }\n",
       "\n",
       "    .dataframe thead th {\n",
       "        text-align: right;\n",
       "    }\n",
       "</style>\n",
       "<table border=\"1\" class=\"dataframe\">\n",
       "  <thead>\n",
       "    <tr style=\"text-align: right;\">\n",
       "      <th></th>\n",
       "      <th>MLB DL Pitcher</th>\n",
       "      <th>MLB Comp</th>\n",
       "      <th>Cosine Value</th>\n",
       "    </tr>\n",
       "  </thead>\n",
       "  <tbody>\n",
       "    <tr>\n",
       "      <th>113</th>\n",
       "      <td>Alba, Max</td>\n",
       "      <td>No Comp</td>\n",
       "      <td>No Similarity</td>\n",
       "    </tr>\n",
       "    <tr>\n",
       "      <th>131</th>\n",
       "      <td>Alba, Miguel</td>\n",
       "      <td>Rainey, Tanner</td>\n",
       "      <td>0.286039</td>\n",
       "    </tr>\n",
       "    <tr>\n",
       "      <th>114</th>\n",
       "      <td>Allain, Luke</td>\n",
       "      <td>Gose, Anthony</td>\n",
       "      <td>0.316228</td>\n",
       "    </tr>\n",
       "    <tr>\n",
       "      <th>37</th>\n",
       "      <td>Amerlaan, Ashe</td>\n",
       "      <td>Garcia, Luis</td>\n",
       "      <td>0.365148</td>\n",
       "    </tr>\n",
       "    <tr>\n",
       "      <th>35</th>\n",
       "      <td>Ammerlaan, Ashe</td>\n",
       "      <td>Nola, Aaron</td>\n",
       "      <td>0.381385</td>\n",
       "    </tr>\n",
       "    <tr>\n",
       "      <th>...</th>\n",
       "      <td>...</td>\n",
       "      <td>...</td>\n",
       "      <td>...</td>\n",
       "    </tr>\n",
       "    <tr>\n",
       "      <th>44</th>\n",
       "      <td>Wilson, Benjamin</td>\n",
       "      <td>Feyereisen, J.P.</td>\n",
       "      <td>0.333333</td>\n",
       "    </tr>\n",
       "    <tr>\n",
       "      <th>58</th>\n",
       "      <td>Wilson, Jeffrey</td>\n",
       "      <td>Cease, Dylan</td>\n",
       "      <td>0.333333</td>\n",
       "    </tr>\n",
       "    <tr>\n",
       "      <th>40</th>\n",
       "      <td>Wiseman, Kevin</td>\n",
       "      <td>Pagán, Emilio</td>\n",
       "      <td>0.333333</td>\n",
       "    </tr>\n",
       "    <tr>\n",
       "      <th>141</th>\n",
       "      <td>Wojtarowicz, Andre</td>\n",
       "      <td>No Comp</td>\n",
       "      <td>No Similarity</td>\n",
       "    </tr>\n",
       "    <tr>\n",
       "      <th>53</th>\n",
       "      <td>Yamane, Tiaga</td>\n",
       "      <td>Stephan, Trevor</td>\n",
       "      <td>0.333333</td>\n",
       "    </tr>\n",
       "  </tbody>\n",
       "</table>\n",
       "<p>150 rows × 3 columns</p>\n",
       "</div>"
      ],
      "text/plain": [
       "         MLB DL Pitcher          MLB Comp   Cosine Value\n",
       "113           Alba, Max           No Comp  No Similarity\n",
       "131        Alba, Miguel    Rainey, Tanner       0.286039\n",
       "114        Allain, Luke     Gose, Anthony       0.316228\n",
       "37       Amerlaan, Ashe      Garcia, Luis       0.365148\n",
       "35      Ammerlaan, Ashe       Nola, Aaron       0.381385\n",
       "..                  ...               ...            ...\n",
       "44     Wilson, Benjamin  Feyereisen, J.P.       0.333333\n",
       "58      Wilson, Jeffrey      Cease, Dylan       0.333333\n",
       "40       Wiseman, Kevin     Pagán, Emilio       0.333333\n",
       "141  Wojtarowicz, Andre           No Comp  No Similarity\n",
       "53        Yamane, Tiaga   Stephan, Trevor       0.333333\n",
       "\n",
       "[150 rows x 3 columns]"
      ]
     },
     "execution_count": 16,
     "metadata": {},
     "output_type": "execute_result"
    }
   ],
   "source": [
    "cosine_comp = pd.DataFrame(list(zip(mlb_draft_pitcher, mlb_comp, cos_value)), columns=['MLB DL Pitcher', 'MLB Comp', \"Cosine Value\"])\n",
    "cosine_comp = cosine_comp.sort_values('MLB DL Pitcher')\n",
    "cosine_comp"
   ]
  },
  {
   "cell_type": "code",
   "execution_count": 14,
   "metadata": {},
   "outputs": [],
   "source": [
    "cosine_comp.to_csv('fastball_cosine_comp.csv', sep='\\t')"
   ]
  }
 ],
 "metadata": {
  "kernelspec": {
   "display_name": "Python 3",
   "language": "python",
   "name": "python3"
  },
  "language_info": {
   "codemirror_mode": {
    "name": "ipython",
    "version": 3
   },
   "file_extension": ".py",
   "mimetype": "text/x-python",
   "name": "python",
   "nbconvert_exporter": "python",
   "pygments_lexer": "ipython3",
   "version": "3.8.1"
  }
 },
 "nbformat": 4,
 "nbformat_minor": 4
}
