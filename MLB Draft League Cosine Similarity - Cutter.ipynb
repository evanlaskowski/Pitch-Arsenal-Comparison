{
 "cells": [
  {
   "cell_type": "code",
   "execution_count": 1,
   "metadata": {},
   "outputs": [],
   "source": [
    "import pandas as pd\n",
    "import numpy as np\n",
    "import seaborn as sns\n",
    "from sklearn.feature_extraction.text import CountVectorizer\n",
    "from sklearn.metrics.pairwise import cosine_similarity\n",
    "import matplotlib.pyplot as plt\n",
    "%matplotlib inline"
   ]
  },
  {
   "cell_type": "code",
   "execution_count": 2,
   "metadata": {},
   "outputs": [],
   "source": [
    "cutterDL = pd.read_csv('DraftLeagueCutter.csv')\n",
    "cutterMLB = pd.read_csv('MLBCutter.csv')"
   ]
  },
  {
   "cell_type": "code",
   "execution_count": 3,
   "metadata": {},
   "outputs": [],
   "source": [
    "cutterDL['league'] = 'Draft League'\n",
    "cutterMLB['league'] = 'MLB'"
   ]
  },
  {
   "cell_type": "code",
   "execution_count": 4,
   "metadata": {},
   "outputs": [],
   "source": [
    "cutterDL = cutterDL.astype(str)\n",
    "cutterMLB = cutterMLB.astype(str)"
   ]
  },
  {
   "cell_type": "code",
   "execution_count": 5,
   "metadata": {},
   "outputs": [],
   "source": [
    "pitchersDL = list(set(cutterDL['pitcher']))"
   ]
  },
  {
   "cell_type": "code",
   "execution_count": 6,
   "metadata": {},
   "outputs": [],
   "source": [
    "cutter = pd.concat([cutterDL, cutterMLB])"
   ]
  },
  {
   "cell_type": "code",
   "execution_count": 7,
   "metadata": {},
   "outputs": [],
   "source": [
    "def combined_features(row):\n",
    "    return row['avgvelo']+\" \"+row['avgspinrate']+\" \"+row['avghorzbreak']+\" \"+row['avgvertbreak']+\" \"+row['avgeffectvelo']"
   ]
  },
  {
   "cell_type": "code",
   "execution_count": 8,
   "metadata": {},
   "outputs": [],
   "source": [
    "#fig, ax = plt.subplots(figsize=(100,100))\n",
    "#sns.heatmap(cosine_sim,cmap='magma',ax=ax)"
   ]
  },
  {
   "cell_type": "code",
   "execution_count": 9,
   "metadata": {},
   "outputs": [],
   "source": [
    "def get_index_from_pitcher(pitcher):\n",
    "    return cutter[cutter.pitcher == pitcher].index[0]"
   ]
  },
  {
   "cell_type": "code",
   "execution_count": 10,
   "metadata": {},
   "outputs": [],
   "source": [
    "def get_pitcher_from_index(index):\n",
    "    return cutter[cutter.index == index].values[0][0]"
   ]
  },
  {
   "cell_type": "code",
   "execution_count": 11,
   "metadata": {},
   "outputs": [
    {
     "name": "stdout",
     "output_type": "stream",
     "text": [
      "Cherry, Derrick , Cosine Sim:  1.0000000000000002\n",
      "Gray, Sonny , Cosine Sim:  0.3333333333333333\n",
      "Fenlong, Connor , Cosine Sim:  1.0\n",
      "Sampson, Adrian , Cosine Sim:  0.4558423058385518\n",
      "Czerniawski, Zachary , Cosine Sim:  1.0000000000000002\n",
      "Czerniawski, Zachary , No Similarity\n",
      "Chiriboga, Chris , Cosine Sim:  1.0\n",
      "Sampson, Adrian , Cosine Sim:  0.4558423058385518\n",
      "Knoll, Brendan , Cosine Sim:  1.0000000000000002\n",
      "Sánchez, Sixto , Cosine Sim:  0.3333333333333333\n",
      "Palumbo, Nick , Cosine Sim:  1.0000000000000002\n",
      "Garcia, Luis , Cosine Sim:  0.2981423969999719\n",
      "Bortka, Josh , Cosine Sim:  1.0\n",
      "Rusin, Chris , Cosine Sim:  0.4558423058385518\n",
      "Fitzpatrick, Karter , Cosine Sim:  1.0000000000000002\n",
      "Sánchez, Sixto , Cosine Sim:  0.3333333333333333\n",
      "Brown, Matt , Cosine Sim:  1.0\n",
      "Paddack, Chris , Cosine Sim:  0.42640143271122083\n",
      "Hansel, Luke , Cosine Sim:  1.0\n",
      "Tepera, Ryan , Cosine Sim:  0.40201512610368484\n",
      "Tonas, Angelo , Cosine Sim:  1.0000000000000002\n",
      "Tonas, Angelo , No Similarity\n",
      "Schueler, Jay , Cosine Sim:  1.0\n",
      "Paddack, Chris , Cosine Sim:  0.42640143271122083\n",
      "Keller, Dave , Cosine Sim:  1.0000000000000002\n",
      "Baker, Bryan , Cosine Sim:  0.2357022603955158\n",
      "Murphy, Shane , Cosine Sim:  1.0000000000000002\n",
      "Murphy, Shane , No Similarity\n",
      "Busse, Terry , Cosine Sim:  1.0\n",
      "Sampson, Adrian , Cosine Sim:  0.4558423058385518\n",
      "Kiritsis, Daniel , Cosine Sim:  1.0\n",
      "González, Chi Chi , Cosine Sim:  0.38138503569823695\n",
      "Pickell, Cannon , Cosine Sim:  1.0\n",
      "González, Chi Chi , Cosine Sim:  0.38138503569823695\n",
      "Crawford, Devin , Cosine Sim:  1.0000000000000002\n",
      "Barnes, Jacob , Cosine Sim:  0.2721655269759087\n",
      "Rivera, Geo , Cosine Sim:  1.0\n",
      "Alvarado, José , Cosine Sim:  0.40451991747794525\n",
      "Yamane, Tiaga , Cosine Sim:  1.0000000000000002\n",
      "Ottavino, Adam , Cosine Sim:  0.30151134457776363\n",
      "Perry, Tanner , Cosine Sim:  1.0\n",
      "Thompson, Ryan , Cosine Sim:  0.40201512610368484\n",
      "Roberston, Trae , Cosine Sim:  1.0\n",
      "González, Chi Chi , Cosine Sim:  0.38138503569823695\n",
      "Carter, Alan , Cosine Sim:  1.0000000000000002\n",
      "Weaver, Luke , Cosine Sim:  0.35355339059327373\n",
      "Tullar, Cameron , Cosine Sim:  1.0000000000000002\n",
      "Garcia, Luis , Cosine Sim:  0.2981423969999719\n",
      "Olejnik, Peyton , Cosine Sim:  1.0\n",
      "Paddack, Chris , Cosine Sim:  0.42640143271122083\n",
      "Stevens, Will , Cosine Sim:  1.0000000000000002\n",
      "Flexen, Chris , Cosine Sim:  0.2981423969999719\n",
      "Ornido, Riley , Cosine Sim:  1.0\n",
      "Honeywell Jr, Brent , Cosine Sim:  0.4545454545454546\n",
      "Sapp, Eric , Cosine Sim:  1.0000000000000002\n",
      "Baker, Bryan , Cosine Sim:  0.2357022603955158\n",
      "Thornton, Zach , Cosine Sim:  1.0000000000000002\n",
      "Barnes, Jacob , Cosine Sim:  0.2721655269759087\n",
      "Wiseman, Kevin , Cosine Sim:  1.0000000000000002\n",
      "Sánchez, Sixto , Cosine Sim:  0.3333333333333333\n",
      "Qin, Zimo , Cosine Sim:  1.0000000000000002\n",
      "Rusin, Chris , Cosine Sim:  0.2519763153394848\n",
      "Haab, Jonathan , Cosine Sim:  1.0000000000000002\n",
      "Hamels, Cole , Cosine Sim:  0.35355339059327373\n",
      "Parisi, Jack , Cosine Sim:  1.0000000000000002\n",
      "Flexen, Chris , Cosine Sim:  0.2981423969999719\n",
      "Pintaro, Jonathan , Cosine Sim:  1.0000000000000002\n",
      "Sadler, Casey , Cosine Sim:  0.3333333333333333\n",
      "Braithwaite, Trey , Cosine Sim:  1.0000000000000002\n",
      "Thielbar, Caleb , Cosine Sim:  0.2721655269759087\n",
      "Noriega, Branden , Cosine Sim:  1.0000000000000002\n",
      "Morgan, Eli , Cosine Sim:  0.2981423969999719\n",
      "Olson, Mason , Cosine Sim:  1.0000000000000002\n",
      "Arihara, Kohei , Cosine Sim:  0.31622776601683794\n",
      "Fosbenner, Xavier , Cosine Sim:  1.0\n",
      "Arihara, Kohei , Cosine Sim:  0.4767312946227962\n",
      "Kane, Thomas , Cosine Sim:  1.0000000000000002\n",
      "Rusin, Chris , Cosine Sim:  0.2519763153394848\n",
      "Blatter, Brock , Cosine Sim:  1.0\n",
      "Tepera, Ryan , Cosine Sim:  0.40201512610368484\n",
      "Coles, Chad , Cosine Sim:  1.0000000000000002\n",
      "Coles, Chad , No Similarity\n",
      "Modugno, John , Cosine Sim:  1.0000000000000002\n",
      "Arihara, Kohei , Cosine Sim:  0.31622776601683794\n",
      "Bosch, Carter , Cosine Sim:  1.0000000000000002\n",
      "Barnes, Jacob , Cosine Sim:  0.408248290463863\n",
      "Steward, Casey , Cosine Sim:  1.0000000000000002\n",
      "Sánchez, Sixto , Cosine Sim:  0.3333333333333333\n",
      "Gonzalez, Joan , Cosine Sim:  1.0000000000000002\n",
      "Sánchez, Sixto , Cosine Sim:  0.3333333333333333\n",
      "Walling, Andrew , Cosine Sim:  1.0000000000000002\n",
      "Eibner, Brett , Cosine Sim:  0.2519763153394848\n",
      "Wilhite, Thomas , Cosine Sim:  1.0000000000000002\n",
      "Sánchez, Sixto , Cosine Sim:  0.4444444444444444\n",
      "Brewer, Michael , Cosine Sim:  1.0000000000000002\n",
      "Civale, Aaron , Cosine Sim:  0.2519763153394848\n"
     ]
    }
   ],
   "source": [
    "for x in pitchersDL:\n",
    "    \n",
    "    try:\n",
    "\n",
    "        cutter = pd.concat([cutterDL, cutterMLB])\n",
    "\n",
    "        cutter[\"combined_features\"] = cutter.apply(combined_features, axis =1)\n",
    "\n",
    "        cv = CountVectorizer()\n",
    "        count_matrix = cv.fit_transform(cutter[\"combined_features\"])\n",
    "\n",
    "        cosine_sim = cosine_similarity(count_matrix)\n",
    "\n",
    "        pitcher_like = x\n",
    "        cutter = cutter[(cutter['pitcher'] == pitcher_like) | (cutter['league'] == 'MLB')]\n",
    "\n",
    "        player_index = get_index_from_pitcher(pitcher_like)\n",
    "\n",
    "        similar_pitchers = list(enumerate(cosine_sim[player_index]))\n",
    "\n",
    "        sorted_similar_pitchers = sorted(similar_pitchers, key=lambda x:x[1], reverse=True)\n",
    "\n",
    "        i=0\n",
    "\n",
    "        for pitcher in sorted_similar_pitchers:\n",
    "            print(get_pitcher_from_index(pitcher[0]),\", Cosine Sim: \", sorted_similar_pitchers[i][1])\n",
    "            i=i+1\n",
    "            if i>1:\n",
    "                break\n",
    "                \n",
    "    except IndexError:\n",
    "        print(x, ', No Similarity')\n",
    "        pass"
   ]
  },
  {
   "cell_type": "code",
   "execution_count": null,
   "metadata": {},
   "outputs": [],
   "source": []
  }
 ],
 "metadata": {
  "kernelspec": {
   "display_name": "Python 3",
   "language": "python",
   "name": "python3"
  },
  "language_info": {
   "codemirror_mode": {
    "name": "ipython",
    "version": 3
   },
   "file_extension": ".py",
   "mimetype": "text/x-python",
   "name": "python",
   "nbconvert_exporter": "python",
   "pygments_lexer": "ipython3",
   "version": "3.8.1"
  }
 },
 "nbformat": 4,
 "nbformat_minor": 4
}
