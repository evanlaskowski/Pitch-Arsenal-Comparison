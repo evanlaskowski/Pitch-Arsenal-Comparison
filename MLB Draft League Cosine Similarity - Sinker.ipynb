{
 "cells": [
  {
   "cell_type": "code",
   "execution_count": 1,
   "metadata": {},
   "outputs": [],
   "source": [
    "import pandas as pd\n",
    "import numpy as np\n",
    "import seaborn as sns\n",
    "from sklearn.feature_extraction.text import CountVectorizer\n",
    "from sklearn.metrics.pairwise import cosine_similarity\n",
    "import matplotlib.pyplot as plt\n",
    "%matplotlib inline"
   ]
  },
  {
   "cell_type": "code",
   "execution_count": 2,
   "metadata": {},
   "outputs": [],
   "source": [
    "sinkerDL = pd.read_csv('DraftLeagueSinker.csv')\n",
    "sinkerMLB = pd.read_csv('MLBSinker.csv')"
   ]
  },
  {
   "cell_type": "code",
   "execution_count": 3,
   "metadata": {},
   "outputs": [],
   "source": [
    "sinkerMLB = sinkerMLB[sinkerMLB['pitches'] > 50]\n",
    "sinkerMLB.drop('pitches', inplace=True, axis=1)"
   ]
  },
  {
   "cell_type": "code",
   "execution_count": 4,
   "metadata": {},
   "outputs": [],
   "source": [
    "sinkerDL['league'] = 'Draft League'\n",
    "sinkerMLB['league'] = 'MLB'"
   ]
  },
  {
   "cell_type": "code",
   "execution_count": 5,
   "metadata": {},
   "outputs": [],
   "source": [
    "sinkerDL = sinkerDL.astype(str)\n",
    "sinkerMLB = sinkerMLB.astype(str)"
   ]
  },
  {
   "cell_type": "code",
   "execution_count": 6,
   "metadata": {},
   "outputs": [],
   "source": [
    "pitchersDL = list(set(sinkerDL['pitcher']))"
   ]
  },
  {
   "cell_type": "code",
   "execution_count": 7,
   "metadata": {},
   "outputs": [],
   "source": [
    "slider = pd.concat([sinkerDL, sinkerMLB])"
   ]
  },
  {
   "cell_type": "code",
   "execution_count": 8,
   "metadata": {},
   "outputs": [],
   "source": [
    "def combined_features(row):\n",
    "    return row['avgvelo']+\" \"+row['avgspinrate']+\" \"+row['avghorzbreak']+\" \"+row['avgvertbreak']+\" \"+row['avgeffectvelo']"
   ]
  },
  {
   "cell_type": "code",
   "execution_count": 9,
   "metadata": {},
   "outputs": [],
   "source": [
    "#fig, ax = plt.subplots(figsize=(100,100))\n",
    "#sns.heatmap(cosine_sim,cmap='magma',ax=ax)"
   ]
  },
  {
   "cell_type": "code",
   "execution_count": 10,
   "metadata": {},
   "outputs": [],
   "source": [
    "def get_index_from_pitcher(pitcher):\n",
    "    return sinker[sinker.pitcher == pitcher].index[0]"
   ]
  },
  {
   "cell_type": "code",
   "execution_count": 11,
   "metadata": {},
   "outputs": [],
   "source": [
    "def get_pitcher_from_index(index):\n",
    "    return sinker[sinker.index == index].values[0][0]"
   ]
  },
  {
   "cell_type": "code",
   "execution_count": 12,
   "metadata": {},
   "outputs": [],
   "source": [
    "mlb_draft_pitcher = []\n",
    "mlb_comp = []\n",
    "cos_value = []\n",
    "\n",
    "for x in pitchersDL:\n",
    "    \n",
    "    mlb_draft_pitcher.append(x)\n",
    "    \n",
    "    try:\n",
    "\n",
    "        sinker = pd.concat([sinkerDL, sinkerMLB])\n",
    "\n",
    "        sinker[\"combined_features\"] = sinker.apply(combined_features, axis =1)\n",
    "\n",
    "        cv = CountVectorizer()\n",
    "        count_matrix = cv.fit_transform(sinker[\"combined_features\"])\n",
    "\n",
    "        cosine_sim = cosine_similarity(count_matrix)\n",
    "\n",
    "        pitcher_like = x\n",
    "        sinker = sinker[(sinker['pitcher'] == pitcher_like) | (sinker['league'] == 'MLB')]\n",
    "\n",
    "        player_index = get_index_from_pitcher(pitcher_like)\n",
    "\n",
    "        similar_pitchers = list(enumerate(cosine_sim[player_index]))\n",
    "\n",
    "        sorted_similar_pitchers = sorted(similar_pitchers, key=lambda x:x[1], reverse=True)\n",
    "\n",
    "        mlb_comp.append(get_pitcher_from_index(sorted_similar_pitchers[1][0]))\n",
    "        \n",
    "        cos_value.append(sorted_similar_pitchers[1][1])\n",
    "                \n",
    "    except IndexError:\n",
    "        mlb_comp.append('No Comp')\n",
    "        cos_value.append('No Similarity')\n",
    "        pass"
   ]
  },
  {
   "cell_type": "code",
   "execution_count": 13,
   "metadata": {},
   "outputs": [
    {
     "data": {
      "text/html": [
       "<div>\n",
       "<style scoped>\n",
       "    .dataframe tbody tr th:only-of-type {\n",
       "        vertical-align: middle;\n",
       "    }\n",
       "\n",
       "    .dataframe tbody tr th {\n",
       "        vertical-align: top;\n",
       "    }\n",
       "\n",
       "    .dataframe thead th {\n",
       "        text-align: right;\n",
       "    }\n",
       "</style>\n",
       "<table border=\"1\" class=\"dataframe\">\n",
       "  <thead>\n",
       "    <tr style=\"text-align: right;\">\n",
       "      <th></th>\n",
       "      <th>MLB DL Pitcher</th>\n",
       "      <th>MLB Comp</th>\n",
       "      <th>Cosine Value</th>\n",
       "    </tr>\n",
       "  </thead>\n",
       "  <tbody>\n",
       "    <tr>\n",
       "      <th>71</th>\n",
       "      <td>Alba, Miguel</td>\n",
       "      <td>No Comp</td>\n",
       "      <td>No Similarity</td>\n",
       "    </tr>\n",
       "    <tr>\n",
       "      <th>72</th>\n",
       "      <td>Allain, Luke</td>\n",
       "      <td>Musgrove, Joe</td>\n",
       "      <td>0.3</td>\n",
       "    </tr>\n",
       "    <tr>\n",
       "      <th>61</th>\n",
       "      <td>Amerlaan, Ashe</td>\n",
       "      <td>García, Edgar</td>\n",
       "      <td>0.435194</td>\n",
       "    </tr>\n",
       "    <tr>\n",
       "      <th>59</th>\n",
       "      <td>Ammerlaan, Ashe</td>\n",
       "      <td>No Comp</td>\n",
       "      <td>No Similarity</td>\n",
       "    </tr>\n",
       "    <tr>\n",
       "      <th>7</th>\n",
       "      <td>Ayers, Kyle</td>\n",
       "      <td>No Comp</td>\n",
       "      <td>No Similarity</td>\n",
       "    </tr>\n",
       "    <tr>\n",
       "      <th>...</th>\n",
       "      <td>...</td>\n",
       "      <td>...</td>\n",
       "      <td>...</td>\n",
       "    </tr>\n",
       "    <tr>\n",
       "      <th>21</th>\n",
       "      <td>Wilhite, Thomas</td>\n",
       "      <td>Iglesias, Raisel</td>\n",
       "      <td>0.3</td>\n",
       "    </tr>\n",
       "    <tr>\n",
       "      <th>89</th>\n",
       "      <td>Wilson, Benjamin</td>\n",
       "      <td>Garcia, Bryan</td>\n",
       "      <td>0.316228</td>\n",
       "    </tr>\n",
       "    <tr>\n",
       "      <th>69</th>\n",
       "      <td>Wojtarowicz, Andre</td>\n",
       "      <td>Raley, Brooks</td>\n",
       "      <td>0.316228</td>\n",
       "    </tr>\n",
       "    <tr>\n",
       "      <th>25</th>\n",
       "      <td>Wright, Kerry</td>\n",
       "      <td>García, Luis</td>\n",
       "      <td>0.435194</td>\n",
       "    </tr>\n",
       "    <tr>\n",
       "      <th>22</th>\n",
       "      <td>Yamane, Tiaga</td>\n",
       "      <td>Jewell, Jake</td>\n",
       "      <td>0.273861</td>\n",
       "    </tr>\n",
       "  </tbody>\n",
       "</table>\n",
       "<p>119 rows × 3 columns</p>\n",
       "</div>"
      ],
      "text/plain": [
       "        MLB DL Pitcher          MLB Comp   Cosine Value\n",
       "71        Alba, Miguel           No Comp  No Similarity\n",
       "72        Allain, Luke     Musgrove, Joe            0.3\n",
       "61      Amerlaan, Ashe     García, Edgar       0.435194\n",
       "59     Ammerlaan, Ashe           No Comp  No Similarity\n",
       "7          Ayers, Kyle           No Comp  No Similarity\n",
       "..                 ...               ...            ...\n",
       "21     Wilhite, Thomas  Iglesias, Raisel            0.3\n",
       "89    Wilson, Benjamin     Garcia, Bryan       0.316228\n",
       "69  Wojtarowicz, Andre     Raley, Brooks       0.316228\n",
       "25       Wright, Kerry      García, Luis       0.435194\n",
       "22       Yamane, Tiaga      Jewell, Jake       0.273861\n",
       "\n",
       "[119 rows x 3 columns]"
      ]
     },
     "execution_count": 13,
     "metadata": {},
     "output_type": "execute_result"
    }
   ],
   "source": [
    "cosine_comp = pd.DataFrame(list(zip(mlb_draft_pitcher, mlb_comp, cos_value)), columns=['MLB DL Pitcher', 'MLB Comp', \"Cosine Value\"])\n",
    "cosine_comp = cosine_comp.sort_values('MLB DL Pitcher')\n",
    "cosine_comp"
   ]
  },
  {
   "cell_type": "code",
   "execution_count": 14,
   "metadata": {},
   "outputs": [],
   "source": [
    "cosine_comp.to_csv('sinker_cosine_comp.csv', sep='\\t')"
   ]
  }
 ],
 "metadata": {
  "kernelspec": {
   "display_name": "Python 3",
   "language": "python",
   "name": "python3"
  },
  "language_info": {
   "codemirror_mode": {
    "name": "ipython",
    "version": 3
   },
   "file_extension": ".py",
   "mimetype": "text/x-python",
   "name": "python",
   "nbconvert_exporter": "python",
   "pygments_lexer": "ipython3",
   "version": "3.8.1"
  }
 },
 "nbformat": 4,
 "nbformat_minor": 4
}
