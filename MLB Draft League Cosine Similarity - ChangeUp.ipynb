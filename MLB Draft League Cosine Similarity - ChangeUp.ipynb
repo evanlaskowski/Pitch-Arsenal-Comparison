{
 "cells": [
  {
   "cell_type": "code",
   "execution_count": 1,
   "metadata": {},
   "outputs": [],
   "source": [
    "import pandas as pd\n",
    "import numpy as np\n",
    "import seaborn as sns\n",
    "from sklearn.feature_extraction.text import CountVectorizer\n",
    "from sklearn.metrics.pairwise import cosine_similarity\n",
    "import matplotlib.pyplot as plt\n",
    "%matplotlib inline"
   ]
  },
  {
   "cell_type": "code",
   "execution_count": 2,
   "metadata": {},
   "outputs": [],
   "source": [
    "changeupDL = pd.read_csv('DraftLeagueChangeup.csv')\n",
    "changeupMLB = pd.read_csv('MLBchangeup.csv')"
   ]
  },
  {
   "cell_type": "code",
   "execution_count": 3,
   "metadata": {},
   "outputs": [],
   "source": [
    "changeupMLB = changeupMLB[changeupMLB['pitches'] > 50]\n",
    "changeupMLB.drop('pitches', inplace=True, axis=1)"
   ]
  },
  {
   "cell_type": "code",
   "execution_count": 4,
   "metadata": {},
   "outputs": [],
   "source": [
    "changeupDL = changeupDL.astype(str)\n",
    "changeupMLB = changeupMLB.astype(str)"
   ]
  },
  {
   "cell_type": "code",
   "execution_count": 5,
   "metadata": {},
   "outputs": [],
   "source": [
    "changeupDL['league'] = 'Draft League'\n",
    "changeupMLB['league'] = 'MLB'"
   ]
  },
  {
   "cell_type": "code",
   "execution_count": 6,
   "metadata": {},
   "outputs": [],
   "source": [
    "pitchersDL = list(changeupDL['pitcher'])"
   ]
  },
  {
   "cell_type": "code",
   "execution_count": 7,
   "metadata": {},
   "outputs": [],
   "source": [
    "def combined_features(row):\n",
    "    return row['avgvelo']+\" \"+row['avgspinrate']+\" \"+row['avghorzbreak']+\" \"+row['avgvertbreak']+\" \"+row['avgeffectvelo']"
   ]
  },
  {
   "cell_type": "code",
   "execution_count": 8,
   "metadata": {},
   "outputs": [],
   "source": [
    "def get_index_from_pitcher(pitcher):\n",
    "    return changeup[changeup.pitcher == pitcher].index[0]"
   ]
  },
  {
   "cell_type": "code",
   "execution_count": 9,
   "metadata": {},
   "outputs": [],
   "source": [
    "def get_pitcher_from_index(index):\n",
    "    return changeup[changeup.index == index].values[0][0]"
   ]
  },
  {
   "cell_type": "code",
   "execution_count": 10,
   "metadata": {},
   "outputs": [],
   "source": [
    "mlb_draft_pitcher = []\n",
    "mlb_comp = []\n",
    "cos_value = []\n",
    "\n",
    "for x in pitchersDL:\n",
    "    \n",
    "    mlb_draft_pitcher.append(x)\n",
    "    \n",
    "    try:\n",
    "\n",
    "        changeup = pd.concat([changeupDL, changeupMLB])\n",
    "\n",
    "        changeup[\"combined_features\"] = changeup.apply(combined_features, axis =1)\n",
    "\n",
    "        cv = CountVectorizer()\n",
    "        count_matrix = cv.fit_transform(changeup[\"combined_features\"])\n",
    "\n",
    "        cosine_sim = cosine_similarity(count_matrix)\n",
    "\n",
    "        pitcher_like = x\n",
    "        changeup = changeup[(changeup['pitcher'] == pitcher_like) | (changeup['league'] == 'MLB')]\n",
    "\n",
    "        player_index = get_index_from_pitcher(pitcher_like)\n",
    "\n",
    "        similar_pitchers = list(enumerate(cosine_sim[player_index]))\n",
    "\n",
    "        sorted_similar_pitchers = sorted(similar_pitchers, key=lambda x:x[1], reverse=True)\n",
    "        \n",
    "        mlb_comp.append(get_pitcher_from_index(sorted_similar_pitchers[1][0]))\n",
    "        \n",
    "        cos_value.append(sorted_similar_pitchers[1][1])\n",
    "                \n",
    "    except IndexError:\n",
    "        mlb_comp.append('No Comp')\n",
    "        cos_value.append('No Similarity')\n",
    "        pass\n",
    "    "
   ]
  },
  {
   "cell_type": "code",
   "execution_count": 11,
   "metadata": {},
   "outputs": [
    {
     "data": {
      "text/html": [
       "<div>\n",
       "<style scoped>\n",
       "    .dataframe tbody tr th:only-of-type {\n",
       "        vertical-align: middle;\n",
       "    }\n",
       "\n",
       "    .dataframe tbody tr th {\n",
       "        vertical-align: top;\n",
       "    }\n",
       "\n",
       "    .dataframe thead th {\n",
       "        text-align: right;\n",
       "    }\n",
       "</style>\n",
       "<table border=\"1\" class=\"dataframe\">\n",
       "  <thead>\n",
       "    <tr style=\"text-align: right;\">\n",
       "      <th></th>\n",
       "      <th>MLB DL Pitcher</th>\n",
       "      <th>MLB Comp</th>\n",
       "      <th>Cosine Value</th>\n",
       "    </tr>\n",
       "  </thead>\n",
       "  <tbody>\n",
       "    <tr>\n",
       "      <th>51</th>\n",
       "      <td>Alba, Max</td>\n",
       "      <td>Knehr, Reiss</td>\n",
       "      <td>0.301511</td>\n",
       "    </tr>\n",
       "    <tr>\n",
       "      <th>128</th>\n",
       "      <td>Alba, Miguel</td>\n",
       "      <td>No Comp</td>\n",
       "      <td>No Similarity</td>\n",
       "    </tr>\n",
       "    <tr>\n",
       "      <th>88</th>\n",
       "      <td>Allain, Luke</td>\n",
       "      <td>Smith, Riley</td>\n",
       "      <td>0.3</td>\n",
       "    </tr>\n",
       "    <tr>\n",
       "      <th>5</th>\n",
       "      <td>Ammerlaan, Ashe</td>\n",
       "      <td>Borucki, Ryan</td>\n",
       "      <td>0.286039</td>\n",
       "    </tr>\n",
       "    <tr>\n",
       "      <th>34</th>\n",
       "      <td>Ayers, Kyle</td>\n",
       "      <td>Minor, Mike</td>\n",
       "      <td>0.210819</td>\n",
       "    </tr>\n",
       "    <tr>\n",
       "      <th>...</th>\n",
       "      <td>...</td>\n",
       "      <td>...</td>\n",
       "      <td>...</td>\n",
       "    </tr>\n",
       "    <tr>\n",
       "      <th>92</th>\n",
       "      <td>Wilhite, Thomas</td>\n",
       "      <td>Lynch, Daniel</td>\n",
       "      <td>0.33541</td>\n",
       "    </tr>\n",
       "    <tr>\n",
       "      <th>38</th>\n",
       "      <td>Wilson, Benjamin</td>\n",
       "      <td>Weber, Ryan</td>\n",
       "      <td>0.365148</td>\n",
       "    </tr>\n",
       "    <tr>\n",
       "      <th>71</th>\n",
       "      <td>Wilson, Jeffrey</td>\n",
       "      <td>López, Pablo</td>\n",
       "      <td>0.33541</td>\n",
       "    </tr>\n",
       "    <tr>\n",
       "      <th>50</th>\n",
       "      <td>Wright, Kerry</td>\n",
       "      <td>Foltynewicz, Mike</td>\n",
       "      <td>0.316228</td>\n",
       "    </tr>\n",
       "    <tr>\n",
       "      <th>10</th>\n",
       "      <td>Yamane, Tiaga</td>\n",
       "      <td>Wittgren, Nick</td>\n",
       "      <td>0.286039</td>\n",
       "    </tr>\n",
       "  </tbody>\n",
       "</table>\n",
       "<p>130 rows × 3 columns</p>\n",
       "</div>"
      ],
      "text/plain": [
       "       MLB DL Pitcher           MLB Comp   Cosine Value\n",
       "51          Alba, Max       Knehr, Reiss       0.301511\n",
       "128      Alba, Miguel            No Comp  No Similarity\n",
       "88       Allain, Luke       Smith, Riley            0.3\n",
       "5     Ammerlaan, Ashe      Borucki, Ryan       0.286039\n",
       "34        Ayers, Kyle        Minor, Mike       0.210819\n",
       "..                ...                ...            ...\n",
       "92    Wilhite, Thomas      Lynch, Daniel        0.33541\n",
       "38   Wilson, Benjamin        Weber, Ryan       0.365148\n",
       "71    Wilson, Jeffrey       López, Pablo        0.33541\n",
       "50      Wright, Kerry  Foltynewicz, Mike       0.316228\n",
       "10      Yamane, Tiaga     Wittgren, Nick       0.286039\n",
       "\n",
       "[130 rows x 3 columns]"
      ]
     },
     "execution_count": 11,
     "metadata": {},
     "output_type": "execute_result"
    }
   ],
   "source": [
    "cosine_comp = pd.DataFrame(list(zip(mlb_draft_pitcher, mlb_comp, cos_value)), columns=['MLB DL Pitcher', 'MLB Comp', \"Cosine Value\"])\n",
    "cosine_comp = cosine_comp.sort_values('MLB DL Pitcher')\n",
    "cosine_comp"
   ]
  },
  {
   "cell_type": "code",
   "execution_count": 12,
   "metadata": {},
   "outputs": [],
   "source": [
    "cosine_comp.to_csv('changeup_cosine_comp.csv', sep='\\t')"
   ]
  },
  {
   "cell_type": "code",
   "execution_count": null,
   "metadata": {},
   "outputs": [],
   "source": []
  }
 ],
 "metadata": {
  "kernelspec": {
   "display_name": "Python 3",
   "language": "python",
   "name": "python3"
  },
  "language_info": {
   "codemirror_mode": {
    "name": "ipython",
    "version": 3
   },
   "file_extension": ".py",
   "mimetype": "text/x-python",
   "name": "python",
   "nbconvert_exporter": "python",
   "pygments_lexer": "ipython3",
   "version": "3.8.1"
  }
 },
 "nbformat": 4,
 "nbformat_minor": 4
}
