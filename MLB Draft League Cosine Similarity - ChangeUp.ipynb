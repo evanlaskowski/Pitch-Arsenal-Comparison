{
 "cells": [
  {
   "cell_type": "code",
   "execution_count": 1,
   "metadata": {},
   "outputs": [],
   "source": [
    "import pandas as pd\n",
    "import numpy as np\n",
    "import seaborn as sns\n",
    "from sklearn.feature_extraction.text import CountVectorizer\n",
    "from sklearn.metrics.pairwise import cosine_similarity\n",
    "import matplotlib.pyplot as plt\n",
    "%matplotlib inline"
   ]
  },
  {
   "cell_type": "code",
   "execution_count": 2,
   "metadata": {},
   "outputs": [],
   "source": [
    "changeupDL = pd.read_csv('DraftLeagueChangeup.csv')\n",
    "changeupMLB = pd.read_csv('MLBchangeup.csv')"
   ]
  },
  {
   "cell_type": "code",
   "execution_count": 3,
   "metadata": {},
   "outputs": [],
   "source": [
    "changeupDL = changeupDL.astype(str)\n",
    "changeupMLB = changeupMLB.astype(str)"
   ]
  },
  {
   "cell_type": "code",
   "execution_count": 4,
   "metadata": {},
   "outputs": [],
   "source": [
    "changeupDL['league'] = 'Draft League'\n",
    "changeupMLB['league'] = 'MLB'"
   ]
  },
  {
   "cell_type": "code",
   "execution_count": 5,
   "metadata": {},
   "outputs": [],
   "source": [
    "pitchersDL = list(set(changeupDL['pitcher']))"
   ]
  },
  {
   "cell_type": "code",
   "execution_count": 6,
   "metadata": {},
   "outputs": [],
   "source": [
    "def combined_features(row):\n",
    "    return row['avgvelo']+\" \"+row['avgspinrate']+\" \"+row['avghorzbreak']+\" \"+row['avgvertbreak']+\" \"+row['avgeffectvelo']"
   ]
  },
  {
   "cell_type": "code",
   "execution_count": 7,
   "metadata": {},
   "outputs": [],
   "source": [
    "def get_index_from_pitcher(pitcher):\n",
    "    return changeup[changeup.pitcher == pitcher].index[0]"
   ]
  },
  {
   "cell_type": "code",
   "execution_count": 8,
   "metadata": {},
   "outputs": [],
   "source": [
    "def get_pitcher_from_index(index):\n",
    "    return changeup[changeup.index == index].values[0][0]"
   ]
  },
  {
   "cell_type": "code",
   "execution_count": 9,
   "metadata": {},
   "outputs": [],
   "source": [
    "mlb_draft_pitcher = []\n",
    "mlb_comp = []\n",
    "cos_value = []\n",
    "\n",
    "for x in pitchersDL:\n",
    "    \n",
    "    mlb_draft_pitcher.append(x)\n",
    "    \n",
    "    try:\n",
    "\n",
    "        changeup = pd.concat([changeupDL, changeupMLB])\n",
    "\n",
    "        changeup[\"combined_features\"] = changeup.apply(combined_features, axis =1)\n",
    "\n",
    "        cv = CountVectorizer()\n",
    "        count_matrix = cv.fit_transform(changeup[\"combined_features\"])\n",
    "\n",
    "        cosine_sim = cosine_similarity(count_matrix)\n",
    "\n",
    "        pitcher_like = x\n",
    "        changeup = changeup[(changeup['pitcher'] == pitcher_like) | (changeup['league'] == 'MLB')]\n",
    "\n",
    "        player_index = get_index_from_pitcher(pitcher_like)\n",
    "\n",
    "        similar_pitchers = list(enumerate(cosine_sim[player_index]))\n",
    "\n",
    "        sorted_similar_pitchers = sorted(similar_pitchers, key=lambda x:x[1], reverse=True)\n",
    "        \n",
    "        mlb_comp.append(get_pitcher_from_index(sorted_similar_pitchers[1][0]))\n",
    "        \n",
    "        cos_value.append(sorted_similar_pitchers[1][1])\n",
    "                \n",
    "    except IndexError:\n",
    "        mlb_comp.append('No Comp')\n",
    "        cos_value.append('No Similarity')\n",
    "        pass\n",
    "    "
   ]
  },
  {
   "cell_type": "code",
   "execution_count": 10,
   "metadata": {},
   "outputs": [
    {
     "data": {
      "text/html": [
       "<div>\n",
       "<style scoped>\n",
       "    .dataframe tbody tr th:only-of-type {\n",
       "        vertical-align: middle;\n",
       "    }\n",
       "\n",
       "    .dataframe tbody tr th {\n",
       "        vertical-align: top;\n",
       "    }\n",
       "\n",
       "    .dataframe thead th {\n",
       "        text-align: right;\n",
       "    }\n",
       "</style>\n",
       "<table border=\"1\" class=\"dataframe\">\n",
       "  <thead>\n",
       "    <tr style=\"text-align: right;\">\n",
       "      <th></th>\n",
       "      <th>MLB DL Pitcher</th>\n",
       "      <th>MLB Comp</th>\n",
       "      <th>Cosine Value</th>\n",
       "    </tr>\n",
       "  </thead>\n",
       "  <tbody>\n",
       "    <tr>\n",
       "      <th>0</th>\n",
       "      <td>Cherry, Derrick</td>\n",
       "      <td>No Comp</td>\n",
       "      <td>No Similarity</td>\n",
       "    </tr>\n",
       "    <tr>\n",
       "      <th>1</th>\n",
       "      <td>Reeves, Cobe</td>\n",
       "      <td>Mercedes, Yermín</td>\n",
       "      <td>0.316228</td>\n",
       "    </tr>\n",
       "    <tr>\n",
       "      <th>2</th>\n",
       "      <td>Dieter, Brandon</td>\n",
       "      <td>Sneed, Cy</td>\n",
       "      <td>0.33541</td>\n",
       "    </tr>\n",
       "    <tr>\n",
       "      <th>3</th>\n",
       "      <td>Drake, Kohl</td>\n",
       "      <td>Zimmermann, Bruce</td>\n",
       "      <td>0.33541</td>\n",
       "    </tr>\n",
       "    <tr>\n",
       "      <th>4</th>\n",
       "      <td>Camfield, Geoffrey</td>\n",
       "      <td>Valdez, Framber</td>\n",
       "      <td>0.3</td>\n",
       "    </tr>\n",
       "    <tr>\n",
       "      <th>...</th>\n",
       "      <td>...</td>\n",
       "      <td>...</td>\n",
       "      <td>...</td>\n",
       "    </tr>\n",
       "    <tr>\n",
       "      <th>115</th>\n",
       "      <td>Sikorski, Easton</td>\n",
       "      <td>Mercedes, Yermín</td>\n",
       "      <td>0.316228</td>\n",
       "    </tr>\n",
       "    <tr>\n",
       "      <th>116</th>\n",
       "      <td>Kush, Jacob</td>\n",
       "      <td>Mercedes, Yermín</td>\n",
       "      <td>0.333333</td>\n",
       "    </tr>\n",
       "    <tr>\n",
       "      <th>117</th>\n",
       "      <td>Gonzalez, Joan</td>\n",
       "      <td>Herrera, Kelvin</td>\n",
       "      <td>0.258199</td>\n",
       "    </tr>\n",
       "    <tr>\n",
       "      <th>118</th>\n",
       "      <td>Pratt, Davis</td>\n",
       "      <td>Fulmer, Carson</td>\n",
       "      <td>0.4</td>\n",
       "    </tr>\n",
       "    <tr>\n",
       "      <th>119</th>\n",
       "      <td>Kane, Thomas</td>\n",
       "      <td>Urías, Julio</td>\n",
       "      <td>0.301511</td>\n",
       "    </tr>\n",
       "  </tbody>\n",
       "</table>\n",
       "<p>120 rows × 3 columns</p>\n",
       "</div>"
      ],
      "text/plain": [
       "         MLB DL Pitcher           MLB Comp   Cosine Value\n",
       "0       Cherry, Derrick            No Comp  No Similarity\n",
       "1          Reeves, Cobe   Mercedes, Yermín       0.316228\n",
       "2       Dieter, Brandon          Sneed, Cy        0.33541\n",
       "3           Drake, Kohl  Zimmermann, Bruce        0.33541\n",
       "4    Camfield, Geoffrey    Valdez, Framber            0.3\n",
       "..                  ...                ...            ...\n",
       "115    Sikorski, Easton   Mercedes, Yermín       0.316228\n",
       "116         Kush, Jacob   Mercedes, Yermín       0.333333\n",
       "117      Gonzalez, Joan    Herrera, Kelvin       0.258199\n",
       "118        Pratt, Davis     Fulmer, Carson            0.4\n",
       "119        Kane, Thomas       Urías, Julio       0.301511\n",
       "\n",
       "[120 rows x 3 columns]"
      ]
     },
     "execution_count": 10,
     "metadata": {},
     "output_type": "execute_result"
    }
   ],
   "source": [
    "cosine_comp = pd.DataFrame(list(zip(mlb_draft_pitcher, mlb_comp, cos_value)), columns=['MLB DL Pitcher', 'MLB Comp', \"Cosine Value\"])\n",
    "cosine_comp"
   ]
  },
  {
   "cell_type": "code",
   "execution_count": 11,
   "metadata": {},
   "outputs": [],
   "source": [
    "cosine_comp.to_csv('changeup_cosine_comp.csv', sep='\\t')"
   ]
  },
  {
   "cell_type": "code",
   "execution_count": null,
   "metadata": {},
   "outputs": [],
   "source": []
  }
 ],
 "metadata": {
  "kernelspec": {
   "display_name": "Python 3",
   "language": "python",
   "name": "python3"
  },
  "language_info": {
   "codemirror_mode": {
    "name": "ipython",
    "version": 3
   },
   "file_extension": ".py",
   "mimetype": "text/x-python",
   "name": "python",
   "nbconvert_exporter": "python",
   "pygments_lexer": "ipython3",
   "version": "3.8.1"
  }
 },
 "nbformat": 4,
 "nbformat_minor": 4
}
